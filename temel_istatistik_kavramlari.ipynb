{
 "cells": [
  {
   "cell_type": "code",
   "execution_count": 82,
   "metadata": {},
   "outputs": [],
   "source": [
    "import pandas as pd\n",
    "import numpy as np\n",
    "import matplotlib.pyplot as plt; plt.rcdefaults()\n",
    "import warnings\n",
    "warnings.filterwarnings('ignore')\n",
    "\n",
    "df = pd.DataFrame()\n",
    "dfsort = pd.DataFrame()\n",
    "\n",
    "df['rassal1']=np.append(np.random.normal(69, 8, 100),np.random.normal(69, 8, 100))\n",
    "df['rassal2']=np.append(np.random.normal(65, 5, 100),np.random.normal(69, 8, 100))\n",
    "df['rassal3']=np.append(np.random.normal(71, 4, 100),np.random.normal(69, 8, 100))\n",
    "\n",
    "\n",
    "\n",
    "                 "
   ]
  },
  {
   "cell_type": "markdown",
   "metadata": {},
   "source": [
    "Orta (Mean)"
   ]
  },
  {
   "cell_type": "code",
   "execution_count": 66,
   "metadata": {},
   "outputs": [
    {
     "name": "stdout",
     "output_type": "stream",
     "text": [
      "70.00298342815309\n",
      "67.1528089579605\n",
      "69.19388257136103\n"
     ]
    }
   ],
   "source": [
    "print(sum(df['rassal1']) / len(df['rassal1']))\n",
    "print(sum(df['rassal2']) / len(df['rassal2']))\n",
    "print(sum(df['rassal3']) / len(df['rassal3']))"
   ]
  },
  {
   "cell_type": "code",
   "execution_count": 67,
   "metadata": {},
   "outputs": [
    {
     "name": "stdout",
     "output_type": "stream",
     "text": [
      "rassal1    70.002983\n",
      "rassal2    67.152809\n",
      "rassal3    69.193883\n",
      "dtype: float64\n"
     ]
    }
   ],
   "source": [
    "print(np.mean(df))"
   ]
  },
  {
   "cell_type": "markdown",
   "metadata": {},
   "source": [
    "Medyan"
   ]
  },
  {
   "cell_type": "code",
   "execution_count": 73,
   "metadata": {},
   "outputs": [
    {
     "name": "stdout",
     "output_type": "stream",
     "text": [
      "70.31064411949652\n",
      "67.38032947390076\n",
      "69.66009093978515\n"
     ]
    }
   ],
   "source": [
    "u=len(df)\n",
    "if(u%2==0):\n",
    "    a=int(u/2)\n",
    "    med1=(sorted(df['rassal1'])[a]+sorted(df['rassal1'])[a-1])/2\n",
    "    med2=(sorted(df['rassal2'])[a]+sorted(df['rassal2'])[a-1])/2\n",
    "    med3=(sorted(df['rassal3'])[a]+sorted(df['rassal3'])[a-1])/2\n",
    "else:\n",
    "    a=int((u-1)/2)\n",
    "    med1=sorted(df['rassal1'])[a]\n",
    "    med2=sorted(df['rassal1'])[a]\n",
    "    med3=sorted(df['rassal1'])[a]\n",
    "print(med1)\n",
    "print(med2)\n",
    "print(med3)\n"
   ]
  },
  {
   "cell_type": "code",
   "execution_count": 75,
   "metadata": {},
   "outputs": [
    {
     "name": "stdout",
     "output_type": "stream",
     "text": [
      "70.31064411949652\n",
      "67.38032947390076\n",
      "69.66009093978515\n"
     ]
    }
   ],
   "source": [
    "print(np.median(df['rassal1']))\n",
    "print(np.median(df['rassal2']))\n",
    "print(np.median(df['rassal3']))"
   ]
  },
  {
   "cell_type": "markdown",
   "metadata": {},
   "source": [
    "Mod "
   ]
  },
  {
   "cell_type": "code",
   "execution_count": null,
   "metadata": {},
   "outputs": [],
   "source": [
    "df['random1']=np.random.randint(0,10,(200,1))\n",
    "df['random2']=np.random.randint(0,50,(200,1))\n",
    "df['random3']=np.random.randint(0,100,(200,1))"
   ]
  },
  {
   "cell_type": "code",
   "execution_count": 96,
   "metadata": {},
   "outputs": [
    {
     "name": "stdout",
     "output_type": "stream",
     "text": [
      "3\n",
      "33\n",
      "71\n"
     ]
    }
   ],
   "source": [
    "def modbulma(dizi):\n",
    "    (values, counts) = np.unique(dizi, return_counts=True)\n",
    "    ind = np.argmax(counts)\n",
    "    return values[ind]\n",
    "print(modbulma(df['random1']))\n",
    "print(modbulma(df['random2']))\n",
    "print(modbulma(df['random3']))"
   ]
  },
  {
   "cell_type": "code",
   "execution_count": 90,
   "metadata": {},
   "outputs": [
    {
     "name": "stdout",
     "output_type": "stream",
     "text": [
      "3\n",
      "33\n"
     ]
    },
    {
     "ename": "StatisticsError",
     "evalue": "no unique mode; found 3 equally common values",
     "output_type": "error",
     "traceback": [
      "\u001b[1;31m---------------------------------------------------------------------------\u001b[0m",
      "\u001b[1;31mStatisticsError\u001b[0m                           Traceback (most recent call last)",
      "\u001b[1;32m<ipython-input-90-2ca54d4ada00>\u001b[0m in \u001b[0;36m<module>\u001b[1;34m\u001b[0m\n\u001b[0;32m      2\u001b[0m \u001b[0mprint\u001b[0m\u001b[1;33m(\u001b[0m\u001b[0mstatistics\u001b[0m\u001b[1;33m.\u001b[0m\u001b[0mmode\u001b[0m\u001b[1;33m(\u001b[0m\u001b[0mdf\u001b[0m\u001b[1;33m[\u001b[0m\u001b[1;34m'random1'\u001b[0m\u001b[1;33m]\u001b[0m\u001b[1;33m)\u001b[0m\u001b[1;33m)\u001b[0m\u001b[1;33m\u001b[0m\u001b[1;33m\u001b[0m\u001b[0m\n\u001b[0;32m      3\u001b[0m \u001b[0mprint\u001b[0m\u001b[1;33m(\u001b[0m\u001b[0mstatistics\u001b[0m\u001b[1;33m.\u001b[0m\u001b[0mmode\u001b[0m\u001b[1;33m(\u001b[0m\u001b[0mdf\u001b[0m\u001b[1;33m[\u001b[0m\u001b[1;34m'random2'\u001b[0m\u001b[1;33m]\u001b[0m\u001b[1;33m)\u001b[0m\u001b[1;33m)\u001b[0m\u001b[1;33m\u001b[0m\u001b[1;33m\u001b[0m\u001b[0m\n\u001b[1;32m----> 4\u001b[1;33m \u001b[0mprint\u001b[0m\u001b[1;33m(\u001b[0m\u001b[0mstatistics\u001b[0m\u001b[1;33m.\u001b[0m\u001b[0mmode\u001b[0m\u001b[1;33m(\u001b[0m\u001b[0mdf\u001b[0m\u001b[1;33m[\u001b[0m\u001b[1;34m'random3'\u001b[0m\u001b[1;33m]\u001b[0m\u001b[1;33m)\u001b[0m\u001b[1;33m)\u001b[0m\u001b[1;33m\u001b[0m\u001b[1;33m\u001b[0m\u001b[0m\n\u001b[0m",
      "\u001b[1;32m~\\Anaconda3\\lib\\statistics.py\u001b[0m in \u001b[0;36mmode\u001b[1;34m(data)\u001b[0m\n\u001b[0;32m    504\u001b[0m     \u001b[1;32melif\u001b[0m \u001b[0mtable\u001b[0m\u001b[1;33m:\u001b[0m\u001b[1;33m\u001b[0m\u001b[1;33m\u001b[0m\u001b[0m\n\u001b[0;32m    505\u001b[0m         raise StatisticsError(\n\u001b[1;32m--> 506\u001b[1;33m                 \u001b[1;34m'no unique mode; found %d equally common values'\u001b[0m \u001b[1;33m%\u001b[0m \u001b[0mlen\u001b[0m\u001b[1;33m(\u001b[0m\u001b[0mtable\u001b[0m\u001b[1;33m)\u001b[0m\u001b[1;33m\u001b[0m\u001b[1;33m\u001b[0m\u001b[0m\n\u001b[0m\u001b[0;32m    507\u001b[0m                 )\n\u001b[0;32m    508\u001b[0m     \u001b[1;32melse\u001b[0m\u001b[1;33m:\u001b[0m\u001b[1;33m\u001b[0m\u001b[1;33m\u001b[0m\u001b[0m\n",
      "\u001b[1;31mStatisticsError\u001b[0m: no unique mode; found 3 equally common values"
     ]
    }
   ],
   "source": [
    "import statistics\n",
    "print(statistics.mode(df['random1']))\n",
    "print(statistics.mode(df['random2']))\n",
    "print(statistics.mode(df['random3']))"
   ]
  },
  {
   "cell_type": "markdown",
   "metadata": {},
   "source": [
    "varyans"
   ]
  },
  {
   "cell_type": "code",
   "execution_count": 122,
   "metadata": {},
   "outputs": [
    {
     "name": "stdout",
     "output_type": "stream",
     "text": [
      "70.3988977370087\n",
      "48.02599874250413\n",
      "40.3024797937951\n"
     ]
    }
   ],
   "source": [
    "toplam1=toplam2=toplam3=0\n",
    "for i in range(u):\n",
    "    toplam1+=(df['rassal1'][i]-np.mean(df['rassal1']))**2\n",
    "varyans1=toplam1/(u-1)\n",
    "print(varyans1)\n",
    "for i in range(u):\n",
    "    toplam2+=(df['rassal2'][i]-np.mean(df['rassal2']))**2\n",
    "varyans2=toplam2/(u-1)\n",
    "print(varyans2)\n",
    "for i in range(u):\n",
    "    toplam3+=(df['rassal3'][i]-np.mean(df['rassal3']))**2\n",
    "varyans3=toplam3/(u-1)\n",
    "print(varyans3)"
   ]
  },
  {
   "cell_type": "code",
   "execution_count": 119,
   "metadata": {},
   "outputs": [
    {
     "name": "stdout",
     "output_type": "stream",
     "text": [
      "70.3988977370087\n",
      "48.02599874250413\n",
      "40.3024797937951\n"
     ]
    }
   ],
   "source": [
    "print(np.var(df['rassal1'], ddof=1))\n",
    "print(np.var(df['rassal2'], ddof=1))\n",
    "print(np.var(df['rassal3'], ddof=1))"
   ]
  },
  {
   "cell_type": "markdown",
   "metadata": {},
   "source": [
    "Standard sapma"
   ]
  },
  {
   "cell_type": "code",
   "execution_count": 136,
   "metadata": {},
   "outputs": [
    {
     "name": "stdout",
     "output_type": "stream",
     "text": [
      "8.390405099696242\n",
      "6.9300792738975305\n",
      "6.348423410091288\n"
     ]
    }
   ],
   "source": [
    "print(varyans1**(1/2))\n",
    "ss1=varyans1**(1/2)\n",
    "ss2=varyans2**(1/2)\n",
    "ss3=varyans1**(1/2)\n",
    "print(varyans2**(1/2))\n",
    "print(varyans3**(1/2))"
   ]
  },
  {
   "cell_type": "code",
   "execution_count": 129,
   "metadata": {},
   "outputs": [
    {
     "name": "stdout",
     "output_type": "stream",
     "text": [
      "8.390405099696242\n",
      "6.9300792738975305\n",
      "6.348423410091288\n"
     ]
    }
   ],
   "source": [
    "print(np.std(df['rassal1'], ddof=1))\n",
    "print(np.std(df['rassal2'], ddof=1))\n",
    "print(np.std(df['rassal3'], ddof=1))"
   ]
  },
  {
   "cell_type": "markdown",
   "metadata": {},
   "source": [
    "Standart Hata"
   ]
  },
  {
   "cell_type": "code",
   "execution_count": 138,
   "metadata": {},
   "outputs": [
    {
     "name": "stdout",
     "output_type": "stream",
     "text": [
      "0.5932912342897403\n",
      "0.5932912342897403\n",
      "0.4900306048733289\n"
     ]
    }
   ],
   "source": [
    "print(ss1/(u**(1/2)))\n",
    "print(ss3/(u**(1/2)))\n",
    "print(ss2/(u**(1/2)))"
   ]
  },
  {
   "cell_type": "code",
   "execution_count": null,
   "metadata": {},
   "outputs": [],
   "source": []
  },
  {
   "cell_type": "code",
   "execution_count": null,
   "metadata": {},
   "outputs": [],
   "source": []
  },
  {
   "cell_type": "code",
   "execution_count": null,
   "metadata": {},
   "outputs": [],
   "source": []
  },
  {
   "cell_type": "code",
   "execution_count": null,
   "metadata": {},
   "outputs": [],
   "source": []
  },
  {
   "cell_type": "code",
   "execution_count": null,
   "metadata": {},
   "outputs": [],
   "source": []
  },
  {
   "cell_type": "code",
   "execution_count": null,
   "metadata": {},
   "outputs": [],
   "source": []
  },
  {
   "cell_type": "code",
   "execution_count": null,
   "metadata": {},
   "outputs": [],
   "source": []
  }
 ],
 "metadata": {
  "kernelspec": {
   "display_name": "Python 3",
   "language": "python",
   "name": "python3"
  },
  "language_info": {
   "codemirror_mode": {
    "name": "ipython",
    "version": 3
   },
   "file_extension": ".py",
   "mimetype": "text/x-python",
   "name": "python",
   "nbconvert_exporter": "python",
   "pygments_lexer": "ipython3",
   "version": "3.7.1"
  }
 },
 "nbformat": 4,
 "nbformat_minor": 2
}
