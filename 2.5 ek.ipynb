{
 "cells": [
  {
   "cell_type": "markdown",
   "metadata": {},
   "source": [
    "3. soru"
   ]
  },
  {
   "cell_type": "code",
   "execution_count": 2,
   "metadata": {},
   "outputs": [],
   "source": [
    "listem=[1,2,3,4,5,2,3,4,7,8,9,9,9,1,3]\n",
    "def uniq_liste(listem):\n",
    "    liste2=list()\n",
    "    def listede_mi(a,liste):\n",
    "        for j in liste:\n",
    "            if (a==j):\n",
    "                return True\n",
    "        return False       \n",
    "    liste2.append(listem[0])\n",
    "    for i in listem:\n",
    "        if(listede_mi(i,liste2)):\n",
    "            pass\n",
    "        else:\n",
    "            liste2.append(i)\n",
    "    return liste2\n",
    "\n",
    "    "
   ]
  },
  {
   "cell_type": "code",
   "execution_count": 3,
   "metadata": {},
   "outputs": [
    {
     "data": {
      "text/plain": [
       "[1, 2, 3, 4, 5, 7, 8, 9]"
      ]
     },
     "execution_count": 3,
     "metadata": {},
     "output_type": "execute_result"
    }
   ],
   "source": [
    "uniq_liste(listem)"
   ]
  },
  {
   "cell_type": "markdown",
   "metadata": {},
   "source": [
    "4. soru"
   ]
  },
  {
   "cell_type": "code",
   "execution_count": 17,
   "metadata": {},
   "outputs": [
    {
     "name": "stdout",
     "output_type": "stream",
     "text": [
      "dogum tarihinizin gununu giriniz24\n",
      "dogum tarihinizin ayını giriniz7\n",
      "dogum tarihinizin yılını giriniz1987\n"
     ]
    },
    {
     "data": {
      "text/plain": [
       "31"
      ]
     },
     "execution_count": 17,
     "metadata": {},
     "output_type": "execute_result"
    }
   ],
   "source": [
    "import time\n",
    "nowday=int(time.strftime('%d'))\n",
    "nowmonth=int(time.strftime('%m'))\n",
    "nowyear=int(time.strftime('%y'))+2000\n",
    "gun=int(input(\"dogum tarihinizin gununu giriniz\"))\n",
    "ay=int(input(\"dogum tarihinizin ayını giriniz\"))\n",
    "yıl=int(input(\"dogum tarihinizin yılını giriniz\"))\n",
    "nows=nowday+nowmonth*30+nowyear*365\n",
    "yass=gun+ay*30+yıl*365\n",
    "yas=(nows-yass)//365\n",
    "yas"
   ]
  },
  {
   "cell_type": "code",
   "execution_count": null,
   "metadata": {},
   "outputs": [],
   "source": []
  }
 ],
 "metadata": {
  "kernelspec": {
   "display_name": "Python 3",
   "language": "python",
   "name": "python3"
  },
  "language_info": {
   "codemirror_mode": {
    "name": "ipython",
    "version": 3
   },
   "file_extension": ".py",
   "mimetype": "text/x-python",
   "name": "python",
   "nbconvert_exporter": "python",
   "pygments_lexer": "ipython3",
   "version": "3.7.1"
  }
 },
 "nbformat": 4,
 "nbformat_minor": 2
}
